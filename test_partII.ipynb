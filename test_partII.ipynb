{
 "cells": [
  {
   "cell_type": "raw",
   "metadata": {},
   "source": [
    "Sajeda Dnoof 21511055\n",
    "Wesam Amarneh 21510557\n",
    "____________________________________\n",
    "\n",
    "dealing with train and test data files"
   ]
  },
  {
   "cell_type": "code",
   "execution_count": 1,
   "metadata": {},
   "outputs": [],
   "source": [
    "#import needed library: pandas,nump and matplot\n",
    "import numpy as np\n",
    "import pandas as pd\n",
    "import matplotlib as plt"
   ]
  },
  {
   "cell_type": "code",
   "execution_count": 3,
   "metadata": {},
   "outputs": [],
   "source": [
    "#get the train & test files\n",
    "datatrain = pd.read_csv(\"train.csv\")\n",
    "datatest = pd.read_csv(\"test.csv\")"
   ]
  },
  {
   "cell_type": "code",
   "execution_count": 8,
   "metadata": {},
   "outputs": [],
   "source": [
    "#change display options\n",
    "pd.options.display.max_columns = 150\n",
    "pd.options.display.max_rows = 150"
   ]
  },
  {
   "cell_type": "code",
   "execution_count": 4,
   "metadata": {},
   "outputs": [
    {
     "name": "stdout",
     "output_type": "stream",
     "text": [
      "<class 'pandas.core.frame.DataFrame'>\n",
      "RangeIndex: 23856 entries, 0 to 23855\n",
      "Columns: 142 entries, Id to agesq\n",
      "dtypes: float64(8), int64(129), object(5)\n",
      "memory usage: 25.8+ MB\n"
     ]
    }
   ],
   "source": [
    "#Show datatest info\n",
    "datatest.info()"
   ]
  },
  {
   "cell_type": "code",
   "execution_count": 9,
   "metadata": {},
   "outputs": [
    {
     "data": {
      "text/plain": [
       "Id                     0\n",
       "v2a1               17403\n",
       "hacdor                 0\n",
       "rooms                  0\n",
       "hacapo                 0\n",
       "v14a                   0\n",
       "refrig                 0\n",
       "v18q                   0\n",
       "v18q1              18126\n",
       "r4h1                   0\n",
       "r4h2                   0\n",
       "r4h3                   0\n",
       "r4m1                   0\n",
       "r4m2                   0\n",
       "r4m3                   0\n",
       "r4t1                   0\n",
       "r4t2                   0\n",
       "r4t3                   0\n",
       "tamhog                 0\n",
       "tamviv                 0\n",
       "escolari               0\n",
       "rez_esc            19653\n",
       "hhsize                 0\n",
       "paredblolad            0\n",
       "paredzocalo            0\n",
       "paredpreb              0\n",
       "pareddes               0\n",
       "paredmad               0\n",
       "paredzinc              0\n",
       "paredfibras            0\n",
       "paredother             0\n",
       "pisomoscer             0\n",
       "pisocemento            0\n",
       "pisoother              0\n",
       "pisonatur              0\n",
       "pisonotiene            0\n",
       "pisomadera             0\n",
       "techozinc              0\n",
       "techoentrepiso         0\n",
       "techocane              0\n",
       "techootro              0\n",
       "cielorazo              0\n",
       "abastaguadentro        0\n",
       "abastaguafuera         0\n",
       "abastaguano            0\n",
       "public                 0\n",
       "planpri                0\n",
       "noelec                 0\n",
       "coopele                0\n",
       "sanitario1             0\n",
       "sanitario2             0\n",
       "sanitario3             0\n",
       "sanitario5             0\n",
       "sanitario6             0\n",
       "energcocinar1          0\n",
       "energcocinar2          0\n",
       "energcocinar3          0\n",
       "energcocinar4          0\n",
       "elimbasu1              0\n",
       "elimbasu2              0\n",
       "elimbasu3              0\n",
       "elimbasu4              0\n",
       "elimbasu5              0\n",
       "elimbasu6              0\n",
       "epared1                0\n",
       "epared2                0\n",
       "epared3                0\n",
       "etecho1                0\n",
       "etecho2                0\n",
       "etecho3                0\n",
       "eviv1                  0\n",
       "eviv2                  0\n",
       "eviv3                  0\n",
       "dis                    0\n",
       "male                   0\n",
       "female                 0\n",
       "estadocivil1           0\n",
       "estadocivil2           0\n",
       "estadocivil3           0\n",
       "estadocivil4           0\n",
       "estadocivil5           0\n",
       "estadocivil6           0\n",
       "estadocivil7           0\n",
       "parentesco1            0\n",
       "parentesco2            0\n",
       "parentesco3            0\n",
       "parentesco4            0\n",
       "parentesco5            0\n",
       "parentesco6            0\n",
       "parentesco7            0\n",
       "parentesco8            0\n",
       "parentesco9            0\n",
       "parentesco10           0\n",
       "parentesco11           0\n",
       "parentesco12           0\n",
       "idhogar                0\n",
       "hogar_nin              0\n",
       "hogar_adul             0\n",
       "hogar_mayor            0\n",
       "hogar_total            0\n",
       "dependency             0\n",
       "edjefe                 0\n",
       "edjefa                 0\n",
       "meaneduc              31\n",
       "instlevel1             0\n",
       "instlevel2             0\n",
       "instlevel3             0\n",
       "instlevel4             0\n",
       "instlevel5             0\n",
       "instlevel6             0\n",
       "instlevel7             0\n",
       "instlevel8             0\n",
       "instlevel9             0\n",
       "bedrooms               0\n",
       "overcrowding           0\n",
       "tipovivi1              0\n",
       "tipovivi2              0\n",
       "tipovivi3              0\n",
       "tipovivi4              0\n",
       "tipovivi5              0\n",
       "computer               0\n",
       "television             0\n",
       "mobilephone            0\n",
       "qmobilephone           0\n",
       "lugar1                 0\n",
       "lugar2                 0\n",
       "lugar3                 0\n",
       "lugar4                 0\n",
       "lugar5                 0\n",
       "lugar6                 0\n",
       "area1                  0\n",
       "area2                  0\n",
       "age                    0\n",
       "SQBescolari            0\n",
       "SQBage                 0\n",
       "SQBhogar_total         0\n",
       "SQBedjefe              0\n",
       "SQBhogar_nin           0\n",
       "SQBovercrowding        0\n",
       "SQBdependency          0\n",
       "SQBmeaned             31\n",
       "agesq                  0\n",
       "dtype: int64"
      ]
     },
     "execution_count": 9,
     "metadata": {},
     "output_type": "execute_result"
    }
   ],
   "source": [
    "#So there is a five objects, let's see if there is null values\n",
    "datatest.isna().sum()"
   ]
  },
  {
   "cell_type": "code",
   "execution_count": 10,
   "metadata": {},
   "outputs": [],
   "source": [
    "#As we saw there is a five coulmns that have a missings values \n",
    "#Handling missing values in v18q1 it's by replacing NaN values => Zeros\n",
    "datatrain['v18q1'].replace(np.NaN,0,inplace=True)\n",
    "datatest['v18q1'].replace(np.NaN,0,inplace=True)"
   ]
  },
  {
   "cell_type": "code",
   "execution_count": 11,
   "metadata": {},
   "outputs": [],
   "source": [
    "#For Handling missing values in meaneduc we make an imputer to do that like follows:\n",
    "def impute_meaneduc(coulmns):\n",
    "    meaneduc = coulmns[0]\n",
    "    instlevel9 = coulmns[1]\n",
    "    if pd.isna(meaneduc):\n",
    "        if instlevel9 == 0:\n",
    "            meaneduc = 9.121911\n",
    "        elif instlevel9 == 1:\n",
    "            meaneduc = 16.244444\n",
    "    return meaneduc"
   ]
  },
  {
   "cell_type": "code",
   "execution_count": 12,
   "metadata": {},
   "outputs": [],
   "source": [
    "#Apply 'meaneduc' column on impute_meaneduc function\n",
    "datatrain['meaneduc'] = datatrain[['meaneduc','instlevel9']].apply(impute_meaneduc, axis=1)\n",
    "datatest['meaneduc'] = datatest[['meaneduc','instlevel9']].apply(impute_meaneduc, axis=1)"
   ]
  },
  {
   "cell_type": "code",
   "execution_count": 13,
   "metadata": {},
   "outputs": [],
   "source": [
    "#For Handling missing values in 'SQBmeaned' which is the square root for 'meaneduc' like follows:\n",
    "datatrain['SQBmeaned'].replace(np.NaN,datatrain['meaneduc']**2, inplace = True)\n",
    "datatest['SQBmeaned'].replace(np.NaN,datatest['meaneduc']**2, inplace = True)"
   ]
  },
  {
   "cell_type": "code",
   "execution_count": 14,
   "metadata": {},
   "outputs": [],
   "source": [
    "#For Handling missing values in 'rez_esc' we make an imputer to do that like follows:\n",
    "def impute_rez_esc(coulmns):\n",
    "    rez_esc = coulmns[0]\n",
    "    age = coulmns[1]\n",
    "    escolari = coulmns[2]\n",
    "    if pd.isna(rez_esc):\n",
    "        if age < 7:\n",
    "            return 0\n",
    "        else:\n",
    "            return age-escolari-7\n",
    "    return rez_esc"
   ]
  },
  {
   "cell_type": "code",
   "execution_count": 15,
   "metadata": {},
   "outputs": [],
   "source": [
    "#Apply 'rez_esc' column on impute_rez_esc function\n",
    "datatrain['rez_esc'] = datatrain[['rez_esc','age','escolari']].apply(impute_rez_esc, axis=1)\n",
    "datatest['rez_esc'] = datatest[['rez_esc','age','escolari']].apply(impute_rez_esc, axis=1)"
   ]
  },
  {
   "cell_type": "code",
   "execution_count": 16,
   "metadata": {},
   "outputs": [],
   "source": [
    "#For Handling missing values in 'v2a1' we make an imputer to do that like follows:\n",
    "def impute_v2a1(coulmns):\n",
    "    v2a1 = coulmns[0]\n",
    "    rooms = coulmns[1]\n",
    "    paredpreb = coulmns[2]\n",
    "    pisonotiene = coulmns[3]\n",
    "    if pd.isna(v2a1):\n",
    "        if rooms == 1:\n",
    "            if paredpreb == 0:\n",
    "                if pisonotiene == 0:\n",
    "                    return 76667\n",
    "                elif pisonotiene == 1:\n",
    "                    return 15000\n",
    "            elif paredpreb == 1:\n",
    "                return 55378\n",
    "        elif rooms == 2:\n",
    "            if paredpreb == 0:\n",
    "                return 93342\n",
    "            elif paredpreb == 1:\n",
    "                return 95342\n",
    "        elif rooms == 3:\n",
    "            if paredpreb == 0:\n",
    "                if pisonotiene == 0:\n",
    "                    return 122383\n",
    "                elif pisonotiene == 1:\n",
    "                    return 65000\n",
    "            elif paredpreb == 1:\n",
    "                return 97795\n",
    "        elif rooms == 4:\n",
    "            if paredpreb == 0:\n",
    "                return 126042\n",
    "            elif paredpreb == 1:\n",
    "                return 101857\n",
    "        elif rooms == 5:\n",
    "            if paredpreb == 0:\n",
    "                return 157052\n",
    "            elif paredpreb == 1:\n",
    "                return 137609\n",
    "        elif rooms == 6:\n",
    "            if paredpreb == 0:\n",
    "                return 230395\n",
    "            elif paredpreb == 1:\n",
    "                return 93108\n",
    "        elif rooms == 7:\n",
    "            return 287232\n",
    "        elif rooms == 8:\n",
    "            if paredpreb == 0:\n",
    "                return 434370\n",
    "            elif paredpreb == 1:\n",
    "                return 200000\n",
    "        elif rooms == 9:\n",
    "            return 605221\n",
    "        elif rooms == 10:\n",
    "            return 570540\n",
    "        else:\n",
    "            return 600000\n",
    "    return v2a1"
   ]
  },
  {
   "cell_type": "code",
   "execution_count": 17,
   "metadata": {},
   "outputs": [],
   "source": [
    "#Apply 'v2a1' column on impute_v2a1 function\n",
    "datatrain['v2a1'] = datatrain[['v2a1','rooms','paredpreb','pisonotiene']].apply(impute_v2a1, axis = 1)\n",
    "datatest['v2a1'] = datatest[['v2a1','rooms','paredpreb','pisonotiene']].apply(impute_v2a1, axis = 1)"
   ]
  },
  {
   "cell_type": "code",
   "execution_count": 18,
   "metadata": {},
   "outputs": [],
   "source": [
    "#here we will save the 'Id' before droping it, because we want use it in submission file\n",
    "y_id = datatest.iloc[:,0]"
   ]
  },
  {
   "cell_type": "code",
   "execution_count": 19,
   "metadata": {},
   "outputs": [],
   "source": [
    "#Droping unwanted coulmns\n",
    "datatrain.drop(['Id','idhogar'], axis = 1, inplace = True)\n",
    "datatest.drop(['Id','idhogar'], axis = 1, inplace = True)"
   ]
  },
  {
   "cell_type": "code",
   "execution_count": 20,
   "metadata": {},
   "outputs": [],
   "source": [
    "#Now For deails with the three objects remaining, first we will change yes->1, no->0 then convert the column to float\n",
    "datatrain['dependency'].replace('no',0, inplace = True)\n",
    "datatrain['dependency'].replace('yes',1, inplace = True)\n",
    "datatrain['edjefa'].replace('no',0, inplace = True)\n",
    "datatrain['edjefa'].replace('yes',1, inplace = True)\n",
    "datatrain['edjefe'].replace('no',0, inplace = True)\n",
    "datatrain['edjefe'].replace('yes',1, inplace = True)\n",
    "\n",
    "datatest['dependency'].replace('no',0, inplace = True)\n",
    "datatest['dependency'].replace('yes',1, inplace = True)\n",
    "datatest['edjefa'].replace('no',0, inplace = True)\n",
    "datatest['edjefa'].replace('yes',1, inplace = True)\n",
    "datatest['edjefe'].replace('no',0, inplace = True)\n",
    "datatest['edjefe'].replace('yes',1, inplace = True)\n",
    "\n",
    "# convert object coulmn to float column\n",
    "datatrain.iloc[:,98:99] = datatrain.iloc[:,98:99].astype(str).astype(float)\n",
    "datatrain.iloc[:,99:100] = datatrain.iloc[:,99:100].astype(str).astype(float)\n",
    "datatrain.iloc[:,100:101] = datatrain.iloc[:,100:101].astype(str).astype(float)\n",
    "\n",
    "datatest.iloc[:,98:99] = datatest.iloc[:,98:99].astype(str).astype(float)\n",
    "datatest.iloc[:,99:100] = datatest.iloc[:,99:100].astype(str).astype(float)\n",
    "datatest.iloc[:,100:101] = datatest.iloc[:,100:101].astype(str).astype(float)"
   ]
  },
  {
   "cell_type": "code",
   "execution_count": 21,
   "metadata": {},
   "outputs": [],
   "source": [
    "#Split training data to x_train and y_train,x will handle all datatrain except the target and y will handel the target\n",
    "x_train = datatrain.iloc[:,:-1]\n",
    "y_train = datatrain.iloc[:,-1]"
   ]
  },
  {
   "cell_type": "code",
   "execution_count": null,
   "metadata": {},
   "outputs": [],
   "source": [
    "#using XGBoost algorithm to predict the target in datatest, with follows parameters\n",
    "from xgboost import XGBClassifier\n",
    "classifier = XGBClassifier(max_depth=100,n_estimators=500, learning_rate=1.0)\n",
    "classifier.fit(x_train,y_train)"
   ]
  },
  {
   "cell_type": "code",
   "execution_count": null,
   "metadata": {},
   "outputs": [],
   "source": [
    "#Now the algorithm will predict the target\n",
    "y_pred = classifier.predict(datatest)"
   ]
  },
  {
   "cell_type": "code",
   "execution_count": null,
   "metadata": {},
   "outputs": [],
   "source": [
    "#create submission file wich contains 'Id' and 'Target' that was predicted\n",
    "sbmt = pd.DataFrame({'Id':y_id, 'Target':y_pred})\n",
    "\n",
    "sbmt.to_csv('submission.csv',index=False)"
   ]
  },
  {
   "cell_type": "code",
   "execution_count": null,
   "metadata": {},
   "outputs": [],
   "source": [
    "#Finish the project"
   ]
  }
 ],
 "metadata": {
  "kernelspec": {
   "display_name": "Python 3",
   "language": "python",
   "name": "python3"
  },
  "language_info": {
   "codemirror_mode": {
    "name": "ipython",
    "version": 3
   },
   "file_extension": ".py",
   "mimetype": "text/x-python",
   "name": "python",
   "nbconvert_exporter": "python",
   "pygments_lexer": "ipython3",
   "version": "3.7.1"
  }
 },
 "nbformat": 4,
 "nbformat_minor": 2
}
