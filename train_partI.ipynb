{
 "cells": [
  {
   "cell_type": "raw",
   "metadata": {},
   "source": [
    "Sajeda Dnoof 21511055\n",
    "Wesam Amarneh 21510557\n",
    "____________________________________\n",
    "\n",
    "dealing with train data file alone"
   ]
  },
  {
   "cell_type": "code",
   "execution_count": 642,
   "metadata": {},
   "outputs": [],
   "source": [
    "#import needed library: pandas,nump and matplot\n",
    "import numpy as np\n",
    "import pandas as pd\n",
    "import matplotlib as plt"
   ]
  },
  {
   "cell_type": "code",
   "execution_count": 680,
   "metadata": {},
   "outputs": [],
   "source": [
    "#get the train file\n",
    "datatrain = pd.read_csv(\"train.csv\")"
   ]
  },
  {
   "cell_type": "code",
   "execution_count": 681,
   "metadata": {},
   "outputs": [],
   "source": [
    "#change display options\n",
    "pd.options.display.max_columns = 150\n",
    "pd.options.display.max_rows = 150"
   ]
  },
  {
   "cell_type": "code",
   "execution_count": 683,
   "metadata": {},
   "outputs": [
    {
     "name": "stdout",
     "output_type": "stream",
     "text": [
      "<class 'pandas.core.frame.DataFrame'>\n",
      "RangeIndex: 9557 entries, 0 to 9556\n",
      "Columns: 143 entries, Id to Target\n",
      "dtypes: float64(8), int64(130), object(5)\n",
      "memory usage: 10.4+ MB\n"
     ]
    }
   ],
   "source": [
    "#Show datatest info\n",
    "datatrain.info()"
   ]
  },
  {
   "cell_type": "code",
   "execution_count": 685,
   "metadata": {},
   "outputs": [
    {
     "data": {
      "text/plain": [
       "Id                    0\n",
       "v2a1               6860\n",
       "hacdor                0\n",
       "rooms                 0\n",
       "hacapo                0\n",
       "v14a                  0\n",
       "refrig                0\n",
       "v18q                  0\n",
       "v18q1              7342\n",
       "r4h1                  0\n",
       "r4h2                  0\n",
       "r4h3                  0\n",
       "r4m1                  0\n",
       "r4m2                  0\n",
       "r4m3                  0\n",
       "r4t1                  0\n",
       "r4t2                  0\n",
       "r4t3                  0\n",
       "tamhog                0\n",
       "tamviv                0\n",
       "escolari              0\n",
       "rez_esc            7928\n",
       "hhsize                0\n",
       "paredblolad           0\n",
       "paredzocalo           0\n",
       "paredpreb             0\n",
       "pareddes              0\n",
       "paredmad              0\n",
       "paredzinc             0\n",
       "paredfibras           0\n",
       "paredother            0\n",
       "pisomoscer            0\n",
       "pisocemento           0\n",
       "pisoother             0\n",
       "pisonatur             0\n",
       "pisonotiene           0\n",
       "pisomadera            0\n",
       "techozinc             0\n",
       "techoentrepiso        0\n",
       "techocane             0\n",
       "techootro             0\n",
       "cielorazo             0\n",
       "abastaguadentro       0\n",
       "abastaguafuera        0\n",
       "abastaguano           0\n",
       "public                0\n",
       "planpri               0\n",
       "noelec                0\n",
       "coopele               0\n",
       "sanitario1            0\n",
       "sanitario2            0\n",
       "sanitario3            0\n",
       "sanitario5            0\n",
       "sanitario6            0\n",
       "energcocinar1         0\n",
       "energcocinar2         0\n",
       "energcocinar3         0\n",
       "energcocinar4         0\n",
       "elimbasu1             0\n",
       "elimbasu2             0\n",
       "elimbasu3             0\n",
       "elimbasu4             0\n",
       "elimbasu5             0\n",
       "elimbasu6             0\n",
       "epared1               0\n",
       "epared2               0\n",
       "epared3               0\n",
       "etecho1               0\n",
       "etecho2               0\n",
       "etecho3               0\n",
       "eviv1                 0\n",
       "eviv2                 0\n",
       "eviv3                 0\n",
       "dis                   0\n",
       "male                  0\n",
       "female                0\n",
       "estadocivil1          0\n",
       "estadocivil2          0\n",
       "estadocivil3          0\n",
       "estadocivil4          0\n",
       "estadocivil5          0\n",
       "estadocivil6          0\n",
       "estadocivil7          0\n",
       "parentesco1           0\n",
       "parentesco2           0\n",
       "parentesco3           0\n",
       "parentesco4           0\n",
       "parentesco5           0\n",
       "parentesco6           0\n",
       "parentesco7           0\n",
       "parentesco8           0\n",
       "parentesco9           0\n",
       "parentesco10          0\n",
       "parentesco11          0\n",
       "parentesco12          0\n",
       "idhogar               0\n",
       "hogar_nin             0\n",
       "hogar_adul            0\n",
       "hogar_mayor           0\n",
       "hogar_total           0\n",
       "dependency            0\n",
       "edjefe                0\n",
       "edjefa                0\n",
       "meaneduc              5\n",
       "instlevel1            0\n",
       "instlevel2            0\n",
       "instlevel3            0\n",
       "instlevel4            0\n",
       "instlevel5            0\n",
       "instlevel6            0\n",
       "instlevel7            0\n",
       "instlevel8            0\n",
       "instlevel9            0\n",
       "bedrooms              0\n",
       "overcrowding          0\n",
       "tipovivi1             0\n",
       "tipovivi2             0\n",
       "tipovivi3             0\n",
       "tipovivi4             0\n",
       "tipovivi5             0\n",
       "computer              0\n",
       "television            0\n",
       "mobilephone           0\n",
       "qmobilephone          0\n",
       "lugar1                0\n",
       "lugar2                0\n",
       "lugar3                0\n",
       "lugar4                0\n",
       "lugar5                0\n",
       "lugar6                0\n",
       "area1                 0\n",
       "area2                 0\n",
       "age                   0\n",
       "SQBescolari           0\n",
       "SQBage                0\n",
       "SQBhogar_total        0\n",
       "SQBedjefe             0\n",
       "SQBhogar_nin          0\n",
       "SQBovercrowding       0\n",
       "SQBdependency         0\n",
       "SQBmeaned             5\n",
       "agesq                 0\n",
       "Target                0\n",
       "dtype: int64"
      ]
     },
     "execution_count": 685,
     "metadata": {},
     "output_type": "execute_result"
    }
   ],
   "source": [
    "#So there is a five objects, let's see if there is null values\n",
    "datatrain.isna().sum()"
   ]
  },
  {
   "cell_type": "code",
   "execution_count": 686,
   "metadata": {},
   "outputs": [],
   "source": [
    "#As we saw there is a five coulmns that have a missings values \n",
    "#Handling missing values in v18q1 it's by replacing NaN values => Zeros\n",
    "datatrain['v18q1'].replace(np.NaN,0,inplace=True)"
   ]
  },
  {
   "cell_type": "code",
   "execution_count": 687,
   "metadata": {},
   "outputs": [
    {
     "data": {
      "text/plain": [
       "instlevel9\n",
       "0     9.121911\n",
       "1    16.244444\n",
       "Name: meaneduc, dtype: float64"
      ]
     },
     "execution_count": 687,
     "metadata": {},
     "output_type": "execute_result"
    }
   ],
   "source": [
    "datatrain.groupby('instlevel9')['meaneduc'].mean()"
   ]
  },
  {
   "cell_type": "code",
   "execution_count": 688,
   "metadata": {},
   "outputs": [],
   "source": [
    "#For Handling missing values in meaneduc we make an imputer to do that like follows:\n",
    "def impute_meaneduc(coulmns):\n",
    "    meaneduc = coulmns[0]\n",
    "    instlevel9 = coulmns[1]\n",
    "    if pd.isna(meaneduc):\n",
    "        if instlevel9 == 0:\n",
    "            meaneduc = 9.121911\n",
    "        elif instlevel9 == 1:\n",
    "            meaneduc = 16.244444\n",
    "    return meaneduc"
   ]
  },
  {
   "cell_type": "code",
   "execution_count": 689,
   "metadata": {},
   "outputs": [],
   "source": [
    "#Apply 'meaneduc' column on impute_meaneduc function\n",
    "datatrain['meaneduc'] = datatrain[['meaneduc','instlevel9']].apply(impute_meaneduc, axis=1)"
   ]
  },
  {
   "cell_type": "code",
   "execution_count": 691,
   "metadata": {
    "scrolled": true
   },
   "outputs": [],
   "source": [
    "#For Handling missing values in 'SQBmeaned' which is the square root for 'meaneduc' like follows:\n",
    "datatrain['SQBmeaned'].replace(np.NaN,datatrain['meaneduc']**2, inplace = True)"
   ]
  },
  {
   "cell_type": "code",
   "execution_count": 693,
   "metadata": {},
   "outputs": [
    {
     "data": {
      "text/plain": [
       "age\n",
       "0          NaN\n",
       "1          NaN\n",
       "2          NaN\n",
       "3          NaN\n",
       "4          NaN\n",
       "5          NaN\n",
       "6          NaN\n",
       "7     0.000000\n",
       "8     0.036765\n",
       "9     0.071429\n",
       "10    0.167883\n",
       "11    0.195489\n",
       "12    0.302158\n",
       "13    0.266234\n",
       "14    0.288732\n",
       "15    0.686275\n",
       "16    1.116667\n",
       "17    1.457143\n",
       "18         NaN\n",
       "19         NaN\n",
       "20         NaN\n",
       "21         NaN\n",
       "22         NaN\n",
       "23         NaN\n",
       "24         NaN\n",
       "25         NaN\n",
       "26         NaN\n",
       "27         NaN\n",
       "28         NaN\n",
       "29         NaN\n",
       "30         NaN\n",
       "31         NaN\n",
       "32         NaN\n",
       "33         NaN\n",
       "34         NaN\n",
       "35         NaN\n",
       "36         NaN\n",
       "37         NaN\n",
       "38         NaN\n",
       "39         NaN\n",
       "40         NaN\n",
       "41         NaN\n",
       "42         NaN\n",
       "43         NaN\n",
       "44         NaN\n",
       "45         NaN\n",
       "46         NaN\n",
       "47         NaN\n",
       "48         NaN\n",
       "49         NaN\n",
       "50         NaN\n",
       "51         NaN\n",
       "52         NaN\n",
       "53         NaN\n",
       "54         NaN\n",
       "55         NaN\n",
       "56         NaN\n",
       "57         NaN\n",
       "58         NaN\n",
       "59         NaN\n",
       "60         NaN\n",
       "61         NaN\n",
       "62         NaN\n",
       "63         NaN\n",
       "64         NaN\n",
       "65         NaN\n",
       "66         NaN\n",
       "67         NaN\n",
       "68         NaN\n",
       "69         NaN\n",
       "70         NaN\n",
       "71         NaN\n",
       "72         NaN\n",
       "73         NaN\n",
       "74         NaN\n",
       "75         NaN\n",
       "76         NaN\n",
       "77         NaN\n",
       "78         NaN\n",
       "79         NaN\n",
       "80         NaN\n",
       "81         NaN\n",
       "82         NaN\n",
       "83         NaN\n",
       "84         NaN\n",
       "85         NaN\n",
       "86         NaN\n",
       "87         NaN\n",
       "88         NaN\n",
       "89         NaN\n",
       "90         NaN\n",
       "91         NaN\n",
       "92         NaN\n",
       "93         NaN\n",
       "94         NaN\n",
       "95         NaN\n",
       "97         NaN\n",
       "Name: rez_esc, dtype: float64"
      ]
     },
     "execution_count": 693,
     "metadata": {},
     "output_type": "execute_result"
    }
   ],
   "source": [
    "datatrain.groupby(['age'])['rez_esc'].mean()"
   ]
  },
  {
   "cell_type": "code",
   "execution_count": 694,
   "metadata": {},
   "outputs": [
    {
     "data": {
      "text/plain": [
       "escolari\n",
       "0     0.173077\n",
       "1     0.125000\n",
       "2     0.251497\n",
       "3     0.356061\n",
       "4     0.291667\n",
       "5     0.363014\n",
       "6     1.150215\n",
       "7     0.676768\n",
       "8     0.615894\n",
       "9     0.309091\n",
       "10    0.000000\n",
       "11    0.000000\n",
       "12         NaN\n",
       "13         NaN\n",
       "14         NaN\n",
       "15         NaN\n",
       "16         NaN\n",
       "17         NaN\n",
       "18         NaN\n",
       "19         NaN\n",
       "20         NaN\n",
       "21         NaN\n",
       "Name: rez_esc, dtype: float64"
      ]
     },
     "execution_count": 694,
     "metadata": {},
     "output_type": "execute_result"
    }
   ],
   "source": [
    "datatrain.groupby(['escolari'])['rez_esc'].mean()"
   ]
  },
  {
   "cell_type": "code",
   "execution_count": 695,
   "metadata": {},
   "outputs": [],
   "source": [
    "#For Handling missing values in 'rez_esc' we make an imputer to do that like follows:\n",
    "def impute_rez_esc(coulmns):\n",
    "    rez_esc = coulmns[0]\n",
    "    age = coulmns[1]\n",
    "    escolari = coulmns[2]\n",
    "    if pd.isna(rez_esc):\n",
    "        if age < 7:\n",
    "            return 0\n",
    "        else:\n",
    "            return age-escolari-7\n",
    "    return rez_esc"
   ]
  },
  {
   "cell_type": "code",
   "execution_count": 697,
   "metadata": {},
   "outputs": [],
   "source": [
    "#Apply 'rez_esc' column on impute_rez_esc function\n",
    "datatrain['rez_esc'] = datatrain[['rez_esc','age','escolari']].apply(impute_rez_esc, axis=1)"
   ]
  },
  {
   "cell_type": "raw",
   "metadata": {},
   "source": [
    "# Now missing values in column 'v2a1'"
   ]
  },
  {
   "cell_type": "code",
   "execution_count": 698,
   "metadata": {},
   "outputs": [
    {
     "data": {
      "text/plain": [
       "rooms  paredpreb  pisonotiene\n",
       "1      0          0               76666.666667\n",
       "                  1               15000.000000\n",
       "       1          0               55379.285714\n",
       "2      0          0               93342.333333\n",
       "                  1                        NaN\n",
       "       1          0               95000.000000\n",
       "3      0          0              122383.138614\n",
       "                  1               65000.000000\n",
       "       1          0               97794.750000\n",
       "4      0          0              126042.299492\n",
       "                  1                        NaN\n",
       "       1          0              101857.244681\n",
       "                  1                        NaN\n",
       "5      0          0              157051.669444\n",
       "                  1                        NaN\n",
       "       1          0              137608.695652\n",
       "6      0          0              230395.127451\n",
       "                  1                        NaN\n",
       "       1          0               93108.000000\n",
       "7      0          0              287232.601399\n",
       "                  1                        NaN\n",
       "       1          0                        NaN\n",
       "8      0          0              434369.654545\n",
       "                  1                        NaN\n",
       "       1          0              200000.000000\n",
       "9      0          0              605221.619048\n",
       "       1          0                        NaN\n",
       "10     0          0              570540.000000\n",
       "11     0          0                        NaN\n",
       "       1          0                        NaN\n",
       "Name: v2a1, dtype: float64"
      ]
     },
     "execution_count": 698,
     "metadata": {},
     "output_type": "execute_result"
    }
   ],
   "source": [
    "datatrain.groupby(['rooms','paredpreb','pisonotiene'])['v2a1'].mean()"
   ]
  },
  {
   "cell_type": "code",
   "execution_count": 699,
   "metadata": {},
   "outputs": [],
   "source": [
    "#For Handling missing values in 'v2a1' we make an imputer to do that like follows:\n",
    "def impute_v2a1(coulmns):\n",
    "    v2a1 = coulmns[0]\n",
    "    rooms = coulmns[1]\n",
    "    paredpreb = coulmns[2]\n",
    "    pisonotiene = coulmns[3]\n",
    "    if pd.isna(v2a1):\n",
    "        if rooms == 1:\n",
    "            if paredpreb == 0:\n",
    "                if pisonotiene == 0:\n",
    "                    return 76667\n",
    "                elif pisonotiene == 1:\n",
    "                    return 15000\n",
    "            elif paredpreb == 1:\n",
    "                return 55378\n",
    "        elif rooms == 2:\n",
    "            if paredpreb == 0:\n",
    "                return 93342\n",
    "            elif paredpreb == 1:\n",
    "                return 95342\n",
    "        elif rooms == 3:\n",
    "            if paredpreb == 0:\n",
    "                if pisonotiene == 0:\n",
    "                    return 122383\n",
    "                elif pisonotiene == 1:\n",
    "                    return 65000\n",
    "            elif paredpreb == 1:\n",
    "                return 97795\n",
    "        elif rooms == 4:\n",
    "            if paredpreb == 0:\n",
    "                return 126042\n",
    "            elif paredpreb == 1:\n",
    "                return 101857\n",
    "        elif rooms == 5:\n",
    "            if paredpreb == 0:\n",
    "                return 157052\n",
    "            elif paredpreb == 1:\n",
    "                return 137609\n",
    "        elif rooms == 6:\n",
    "            if paredpreb == 0:\n",
    "                return 230395\n",
    "            elif paredpreb == 1:\n",
    "                return 93108\n",
    "        elif rooms == 7:\n",
    "            return 287232\n",
    "        elif rooms == 8:\n",
    "            if paredpreb == 0:\n",
    "                return 434370\n",
    "            elif paredpreb == 1:\n",
    "                return 200000\n",
    "        elif rooms == 9:\n",
    "            return 605221\n",
    "        elif rooms == 10:\n",
    "            return 570540\n",
    "        else:\n",
    "            return 600000\n",
    "    return v2a1"
   ]
  },
  {
   "cell_type": "code",
   "execution_count": 701,
   "metadata": {},
   "outputs": [],
   "source": [
    "#Apply 'v2a1' column on impute_v2a1 function\n",
    "datatrain['v2a1'] = datatrain[['v2a1','rooms','paredpreb','pisonotiene']].apply(impute_v2a1, axis = 1)"
   ]
  },
  {
   "cell_type": "code",
   "execution_count": 704,
   "metadata": {},
   "outputs": [],
   "source": [
    "#Droping unwanted coulmns\n",
    "datatrain.drop(['Id','idhogar'], axis = 1, inplace = True)"
   ]
  },
  {
   "cell_type": "raw",
   "metadata": {},
   "source": [
    "# Dealing with remaining objects"
   ]
  },
  {
   "cell_type": "code",
   "execution_count": 706,
   "metadata": {},
   "outputs": [],
   "source": [
    "#Now For deails with the three objects remaining, first we will change yes->1, no->0 then convert the column to float\n",
    "datatrain['dependency'].replace('no',0, inplace = True)\n",
    "datatrain['dependency'].replace('yes',1, inplace = True)\n",
    "datatrain['edjefa'].replace('no',0, inplace = True)\n",
    "datatrain['edjefa'].replace('yes',1, inplace = True)\n",
    "datatrain['edjefe'].replace('no',0, inplace = True)\n",
    "datatrain['edjefe'].replace('yes',1, inplace = True)\n",
    "\n",
    "# convert object coulmn to float column\n",
    "datatrain.iloc[:,98:99] = datatrain.iloc[:,98:99].astype(str).astype(float)\n",
    "datatrain.iloc[:,99:100] = datatrain.iloc[:,99:100].astype(str).astype(float)\n",
    "datatrain.iloc[:,100:101] = datatrain.iloc[:,100:101].astype(str).astype(float)\n"
   ]
  },
  {
   "cell_type": "code",
   "execution_count": 707,
   "metadata": {},
   "outputs": [],
   "source": [
    "#Now spiling the data file to test the concarrency with the target \n",
    "x = datatrain.iloc[:,:-1]\n",
    "y = datatrain.iloc[:,-1]"
   ]
  },
  {
   "cell_type": "code",
   "execution_count": 708,
   "metadata": {},
   "outputs": [],
   "source": [
    "#split 80% of data train to test and the rest to train\n",
    "from sklearn.model_selection import train_test_split\n",
    "x_train,x_test,y_train,y_test = train_test_split(x,y,test_size = 0.2, random_state = 0)"
   ]
  },
  {
   "cell_type": "code",
   "execution_count": 709,
   "metadata": {},
   "outputs": [],
   "source": [
    "datatrain['instlevel1'].replace(np.NaN,0,inplace=True)"
   ]
  },
  {
   "cell_type": "code",
   "execution_count": 710,
   "metadata": {},
   "outputs": [
    {
     "data": {
      "text/plain": [
       "KNeighborsClassifier(algorithm='auto', leaf_size=30, metric='minkowski',\n",
       "           metric_params=None, n_jobs=None, n_neighbors=200, p=1,\n",
       "           weights='uniform')"
      ]
     },
     "execution_count": 710,
     "metadata": {},
     "output_type": "execute_result"
    }
   ],
   "source": [
    "#trying KNN machine learning algorithm for training\n",
    "from sklearn.neighbors import KNeighborsClassifier\n",
    "classifier = KNeighborsClassifier(n_neighbors=200,metric='minkowski',p=1)\n",
    "classifier.fit(x_train,y_train)"
   ]
  },
  {
   "cell_type": "code",
   "execution_count": 711,
   "metadata": {},
   "outputs": [],
   "source": [
    "#Now the algorithm will predict the Target\n",
    "y_pred = classifier.predict(x_test)"
   ]
  },
  {
   "cell_type": "code",
   "execution_count": 712,
   "metadata": {},
   "outputs": [],
   "source": [
    "#Here we will check the percentage of valid data\n",
    "from sklearn.metrics import confusion_matrix\n",
    "cm = confusion_matrix(y_pred,y_test)\n"
   ]
  },
  {
   "cell_type": "code",
   "execution_count": 713,
   "metadata": {},
   "outputs": [
    {
     "name": "stdout",
     "output_type": "stream",
     "text": [
      "[[   0    0    0    0]\n",
      " [   0    0    0    0]\n",
      " [   0    0    0    0]\n",
      " [ 151  331  246 1184]]\n"
     ]
    }
   ],
   "source": [
    "print(cm)"
   ]
  },
  {
   "cell_type": "code",
   "execution_count": 714,
   "metadata": {},
   "outputs": [
    {
     "name": "stdout",
     "output_type": "stream",
     "text": [
      "1184\n"
     ]
    }
   ],
   "source": [
    "correct = cm[0][0]+cm[1][1]+cm[2][2]+cm[3][3]\n",
    "print(correct)\n"
   ]
  },
  {
   "cell_type": "code",
   "execution_count": 715,
   "metadata": {},
   "outputs": [
    {
     "name": "stdout",
     "output_type": "stream",
     "text": [
      "1912\n"
     ]
    }
   ],
   "source": [
    "total = 0\n",
    "for i in range (0,4):\n",
    "    for j in range (0,4):\n",
    "        if i==j:\n",
    "            continue\n",
    "        total +=cm[i][j]\n",
    "total+=correct\n",
    "print(total)\n"
   ]
  },
  {
   "cell_type": "code",
   "execution_count": 716,
   "metadata": {},
   "outputs": [
    {
     "name": "stdout",
     "output_type": "stream",
     "text": [
      "0.6192468619246861\n"
     ]
    }
   ],
   "source": [
    "correct_percentage = correct/total\n",
    "print(correct_percentage)"
   ]
  },
  {
   "cell_type": "code",
   "execution_count": 717,
   "metadata": {},
   "outputs": [
    {
     "data": {
      "text/plain": [
       "RandomForestClassifier(bootstrap=True, class_weight=None, criterion='entropy',\n",
       "            max_depth=None, max_features='auto', max_leaf_nodes=None,\n",
       "            min_impurity_decrease=0.0, min_impurity_split=None,\n",
       "            min_samples_leaf=1, min_samples_split=2,\n",
       "            min_weight_fraction_leaf=0.0, n_estimators=200, n_jobs=None,\n",
       "            oob_score=False, random_state=None, verbose=0,\n",
       "            warm_start=False)"
      ]
     },
     "execution_count": 717,
     "metadata": {},
     "output_type": "execute_result"
    }
   ],
   "source": [
    "#trying RandomForest machine learning algorithm for training\n",
    "from sklearn.ensemble import RandomForestClassifier\n",
    "classifier = RandomForestClassifier(n_estimators=200,criterion='entropy')\n",
    "classifier.fit(x_train,y_train)"
   ]
  },
  {
   "cell_type": "code",
   "execution_count": 718,
   "metadata": {},
   "outputs": [],
   "source": [
    "#Now the algorithm will predict the Target\n",
    "y_pred = classifier.predict(x_test)"
   ]
  },
  {
   "cell_type": "code",
   "execution_count": 719,
   "metadata": {},
   "outputs": [
    {
     "name": "stdout",
     "output_type": "stream",
     "text": [
      "[[ 110    5    1    0]\n",
      " [  15  279    5    2]\n",
      " [   0    5  194    3]\n",
      " [  26   42   46 1179]]\n"
     ]
    }
   ],
   "source": [
    "#Here we will check the percentage of valid data\n",
    "from sklearn.metrics import confusion_matrix\n",
    "cm = confusion_matrix(y_pred,y_test)\n",
    "print(cm)"
   ]
  },
  {
   "cell_type": "code",
   "execution_count": 720,
   "metadata": {},
   "outputs": [
    {
     "name": "stdout",
     "output_type": "stream",
     "text": [
      "1762\n"
     ]
    }
   ],
   "source": [
    "correct = cm[0][0]+cm[1][1]+cm[2][2]+cm[3][3]\n",
    "print(correct)\n"
   ]
  },
  {
   "cell_type": "code",
   "execution_count": 721,
   "metadata": {},
   "outputs": [
    {
     "name": "stdout",
     "output_type": "stream",
     "text": [
      "1912\n"
     ]
    }
   ],
   "source": [
    "total = 0\n",
    "for i in range (0,4):\n",
    "    for j in range (0,4):\n",
    "        if i==j:\n",
    "            continue\n",
    "        total +=cm[i][j]\n",
    "total+=correct\n",
    "print(total)\n"
   ]
  },
  {
   "cell_type": "code",
   "execution_count": 722,
   "metadata": {},
   "outputs": [
    {
     "name": "stdout",
     "output_type": "stream",
     "text": [
      "0.9215481171548117\n"
     ]
    }
   ],
   "source": [
    "correct_percentage = correct/total\n",
    "print(correct_percentage)"
   ]
  },
  {
   "cell_type": "raw",
   "metadata": {},
   "source": [
    "#trying xgboost machine learning algorithm for training, with follows parameters\n",
    "# max_depth :Used to control over-fitting as higher depth will allow model to learn relations very specific to a particular sample.\n",
    "# Booster :Default -> gbtree: tree-based models\n",
    "# n_esimators :\n",
    "# Learning-rate : Size of rate"
   ]
  },
  {
   "cell_type": "code",
   "execution_count": 724,
   "metadata": {},
   "outputs": [
    {
     "data": {
      "text/plain": [
       "XGBClassifier(base_score=0.5, booster='gbtree', colsample_bylevel=1,\n",
       "       colsample_bytree=1, gamma=0, learning_rate=0.2, max_delta_step=0,\n",
       "       max_depth=100, min_child_weight=1, missing=None, n_estimators=500,\n",
       "       n_jobs=1, nthread=None, objective='multi:softprob', random_state=0,\n",
       "       reg_alpha=0, reg_lambda=1, scale_pos_weight=1, seed=None,\n",
       "       silent=True, subsample=1)"
      ]
     },
     "execution_count": 724,
     "metadata": {},
     "output_type": "execute_result"
    }
   ],
   "source": [
    "from xgboost import XGBClassifier\n",
    "classifier = XGBClassifier(max_depth=100, n_estimators=500, learning_rate=0.2)\n",
    "classifier.fit(x_train,y_train)"
   ]
  },
  {
   "cell_type": "code",
   "execution_count": 725,
   "metadata": {},
   "outputs": [],
   "source": [
    "#Now the algorithm will predict the Target\n",
    "y_pred = classifier.predict(x_test)"
   ]
  },
  {
   "cell_type": "code",
   "execution_count": 726,
   "metadata": {},
   "outputs": [
    {
     "name": "stdout",
     "output_type": "stream",
     "text": [
      "[[ 127    5    1    0]\n",
      " [  14  304    6    4]\n",
      " [   2    5  226    8]\n",
      " [   8   17   13 1172]]\n"
     ]
    }
   ],
   "source": [
    "#Here we will check the percentage of valid data\n",
    "from sklearn.metrics import confusion_matrix\n",
    "cm = confusion_matrix(y_pred,y_test)\n",
    "print(cm)"
   ]
  },
  {
   "cell_type": "code",
   "execution_count": 727,
   "metadata": {},
   "outputs": [
    {
     "name": "stdout",
     "output_type": "stream",
     "text": [
      "1829\n"
     ]
    }
   ],
   "source": [
    "correct = cm[0][0]+cm[1][1]+cm[2][2]+cm[3][3]\n",
    "print(correct)\n"
   ]
  },
  {
   "cell_type": "code",
   "execution_count": 728,
   "metadata": {},
   "outputs": [
    {
     "name": "stdout",
     "output_type": "stream",
     "text": [
      "1912\n"
     ]
    }
   ],
   "source": [
    "total = 0\n",
    "for i in range (0,4):\n",
    "    for j in range (0,4):\n",
    "        if i==j:\n",
    "            continue\n",
    "        total +=cm[i][j]\n",
    "total+=correct\n",
    "print(total)\n"
   ]
  },
  {
   "cell_type": "code",
   "execution_count": 729,
   "metadata": {},
   "outputs": [
    {
     "name": "stdout",
     "output_type": "stream",
     "text": [
      "0.9565899581589958\n"
     ]
    }
   ],
   "source": [
    "correct_percentage = correct/total\n",
    "print(correct_percentage)"
   ]
  },
  {
   "cell_type": "raw",
   "metadata": {},
   "source": [
    "#So, we will work in RandomForest Algorithm"
   ]
  },
  {
   "cell_type": "code",
   "execution_count": 730,
   "metadata": {},
   "outputs": [],
   "source": [
    "#trying Lightgbm machine learning algorithm for training\n",
    "import lightgbm as lgb\n",
    "classifier = lgb.Dataset(x_train,label=y_train)"
   ]
  },
  {
   "cell_type": "code",
   "execution_count": 731,
   "metadata": {},
   "outputs": [],
   "source": [
    "#Using this parameters\n",
    "params = {}\n",
    "params['learning_rate']= 0.20\n",
    "params['n_estimators'] = 500\n",
    "params['num_leaves']= 1000\n",
    "params['max_depth']=100"
   ]
  },
  {
   "cell_type": "code",
   "execution_count": 732,
   "metadata": {},
   "outputs": [
    {
     "name": "stderr",
     "output_type": "stream",
     "text": [
      "C:\\Users\\User\\Anaconda3\\lib\\site-packages\\lightgbm\\engine.py:116: UserWarning: Found `n_estimators` in params. Will use it instead of argument\n",
      "  warnings.warn(\"Found `{}` in params. Will use it instead of argument\".format(alias))\n"
     ]
    }
   ],
   "source": [
    "clf = lgb.train(params, classifier)"
   ]
  },
  {
   "cell_type": "code",
   "execution_count": 733,
   "metadata": {},
   "outputs": [],
   "source": [
    "y_pred = clf.predict(x_test)"
   ]
  },
  {
   "cell_type": "code",
   "execution_count": 734,
   "metadata": {},
   "outputs": [],
   "source": [
    "y_pred = [round(i) for i in y_pred]"
   ]
  },
  {
   "cell_type": "code",
   "execution_count": 735,
   "metadata": {},
   "outputs": [
    {
     "name": "stdout",
     "output_type": "stream",
     "text": [
      "[[ 107    5    0    0    0]\n",
      " [  33  284    4    3    0]\n",
      " [   7   38  237   69    0]\n",
      " [   4    4    5 1110    0]\n",
      " [   0    0    0    2    0]]\n"
     ]
    }
   ],
   "source": [
    "#Here we will check the percentage of valid data\n",
    "from sklearn.metrics import confusion_matrix\n",
    "cm = confusion_matrix(y_pred,y_test)\n",
    "print(cm)"
   ]
  },
  {
   "cell_type": "code",
   "execution_count": 736,
   "metadata": {},
   "outputs": [
    {
     "name": "stdout",
     "output_type": "stream",
     "text": [
      "1738\n"
     ]
    }
   ],
   "source": [
    "correct = cm[0][0]+cm[1][1]+cm[2][2]+cm[3][3]\n",
    "print(correct)\n"
   ]
  },
  {
   "cell_type": "code",
   "execution_count": 737,
   "metadata": {},
   "outputs": [
    {
     "name": "stdout",
     "output_type": "stream",
     "text": [
      "1910\n"
     ]
    }
   ],
   "source": [
    "total = 0\n",
    "for i in range (0,4):\n",
    "    for j in range (0,4):\n",
    "        if i==j:\n",
    "            continue\n",
    "        total +=cm[i][j]\n",
    "total+=correct\n",
    "print(total)\n"
   ]
  },
  {
   "cell_type": "code",
   "execution_count": 738,
   "metadata": {},
   "outputs": [
    {
     "name": "stdout",
     "output_type": "stream",
     "text": [
      "0.9099476439790576\n"
     ]
    }
   ],
   "source": [
    "correct_percentage = correct/total\n",
    "print(correct_percentage)"
   ]
  },
  {
   "cell_type": "code",
   "execution_count": 739,
   "metadata": {},
   "outputs": [],
   "source": [
    "# SO from this result we saw that the XGBoost is better than other\n",
    "# Part two will be based on XGBoost"
   ]
  },
  {
   "cell_type": "code",
   "execution_count": null,
   "metadata": {},
   "outputs": [],
   "source": []
  }
 ],
 "metadata": {
  "kernelspec": {
   "display_name": "Python 3",
   "language": "python",
   "name": "python3"
  },
  "language_info": {
   "codemirror_mode": {
    "name": "ipython",
    "version": 3
   },
   "file_extension": ".py",
   "mimetype": "text/x-python",
   "name": "python",
   "nbconvert_exporter": "python",
   "pygments_lexer": "ipython3",
   "version": "3.7.1"
  }
 },
 "nbformat": 4,
 "nbformat_minor": 2
}
